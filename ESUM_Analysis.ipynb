{
 "cells": [
  {
   "cell_type": "code",
   "execution_count": 27,
   "metadata": {
    "collapsed": false
   },
   "outputs": [],
   "source": [
    "# Required packages\n",
    "\n",
    "import pandas as pd\n",
    "import numpy as np\n",
    "import matplotlib.pyplot as plt"
   ]
  },
  {
   "cell_type": "code",
   "execution_count": 28,
   "metadata": {
    "collapsed": false
   },
   "outputs": [],
   "source": [
    "# Change directory\n",
    "import os\n",
    "os.chdir(\"/Users/johannes/Documents/Endeavour/Research/ESUM\")"
   ]
  },
  {
   "cell_type": "code",
   "execution_count": 29,
   "metadata": {
    "collapsed": false
   },
   "outputs": [],
   "source": [
    "# Read in the data: Participants Biofeedback\n",
    "xl = pd.ExcelFile(\"Participants_Bio_feedback_data_dynamics.xlsx\")"
   ]
  },
  {
   "cell_type": "markdown",
   "metadata": {},
   "source": [
    "xl.sheet_names\n",
    "for calling the name of the sheet. \"Sheet1\" is it in this excel sheet."
   ]
  },
  {
   "cell_type": "code",
   "execution_count": 30,
   "metadata": {
    "collapsed": false
   },
   "outputs": [],
   "source": [
    "bio = xl.parse(\"Sheet1\")"
   ]
  },
  {
   "cell_type": "code",
   "execution_count": 31,
   "metadata": {
    "collapsed": false
   },
   "outputs": [],
   "source": [
    "# Create dict variable d with all participants results stored in. By this, every participant's results is an own data frame\n",
    "d = {}\n",
    "for i in [5,6,7,8,9,10,11,13,14,15,16,17,18,19,20,21,23,24,25,26,27,28,29,30,31,32,33,34,35,36,37]:\n",
    "    d[i] = bio[bio[\"Participants\"] == i]"
   ]
  },
  {
   "cell_type": "code",
   "execution_count": 32,
   "metadata": {
    "collapsed": false
   },
   "outputs": [],
   "source": [
    "# Creating the differentials of all variables and append them to the data frames\n",
    "\n",
    "for i in [5,6,7,8,9,10,11,13,14,15,16,17,18,19,20,21,23,24,25,26,27,28,29,30,31,32,33,34,35,36,37] : \n",
    "    d[i] = d[i].join(pd.DataFrame(np.append(0,np.diff(d[i][\"Sound\"],n=1)),index=d[i].index))\n",
    "    d[i].columns.values[11] = \"dSound\"\n",
    "    d[i] = d[i].join(pd.DataFrame(np.append(0,np.diff(d[i][\"Dust\"],n=1)),index=d[i].index))\n",
    "    d[i].columns.values[12] = \"dDust\"\n",
    "    d[i] = d[i].join(pd.DataFrame(np.append(0,np.diff(d[i][\"TempEN\"],n=1)),index=d[i].index))    \n",
    "    d[i].columns.values[13] = \"dTempEN\"\n",
    "    d[i] = d[i].join(pd.DataFrame(np.append(0,np.diff(d[i][\"RH\"],n=1)),index=d[i].index))\n",
    "    d[i].columns.values[14] = \"dRH\"\n",
    "    d[i] = d[i].join(pd.DataFrame(np.append(0,np.diff(d[i][\"Light\"],n=1)),index=d[i].index))\n",
    "    d[i].columns.values[15] = \"dLight\"\n",
    "    d[i] = d[i].join(pd.DataFrame(np.append(0,np.diff(d[i][\"#WiFi\"],n=1)),index=d[i].index))\n",
    "    d[i].columns.values[16] = \"d#WiFi\"\n",
    "    d[i] = d[i].join(pd.DataFrame(np.append(0,np.diff(d[i][\"HR\"],n=1)),index=d[i].index))\n",
    "    d[i].columns.values[17] = \"dHR\"\n",
    "    d[i] = d[i].join(pd.DataFrame(np.append(0,np.diff(d[i][\"BVP\"],n=1)),index=d[i].index))\n",
    "    d[i].columns.values[18] = \"dBVP\"\n",
    "    d[i] = d[i].join(pd.DataFrame(np.append(0,np.diff(d[i][\"EDA\"],n=1)),index=d[i].index))\n",
    "    d[i].columns.values[19] = \"dEDA\"\n",
    "    d[i] = d[i].join(pd.DataFrame(np.append(0,np.diff(d[i][\"TempBF\"],n=1)),index=d[i].index))\n",
    "    d[i].columns.values[20] = \"dTempBF\""
   ]
  },
  {
   "cell_type": "markdown",
   "metadata": {},
   "source": [
    "Now the data set is complete."
   ]
  },
  {
   "cell_type": "markdown",
   "metadata": {},
   "source": [
    "For representing the data visually, it is helpful to normalize the data by dividing them by their maximum value of each participant."
   ]
  },
  {
   "cell_type": "code",
   "execution_count": 33,
   "metadata": {
    "collapsed": false
   },
   "outputs": [],
   "source": [
    "# The maximum of each participant's results\n",
    "for i in [5,6,7,8,9,10,11,13,14,15,16,17,18,19,20,21,23,24,25,26,27,28,29,30,31,32,33,34,35,36,37]:\n",
    "    for j in range(1,21):\n",
    "        d[i][d[i].columns[j]] = d[i][d[i].columns[j]]/pd.DataFrame.max(d[i][d[i].columns[j]])"
   ]
  },
  {
   "cell_type": "code",
   "execution_count": 37,
   "metadata": {
    "collapsed": false
   },
   "outputs": [],
   "source": [
    "for i in [5,6,7,8,9,10,11,13,14,15,16,17,18,19,20,21,23,24,25,26,27,28,29,30,31,32,33,34,35,36,37]:\n",
    "    for j,color in enumerate(['b','g','r','m','y','k','c','goldenrod','deepskyblue','lawngreen'], start=1):\n",
    "        fig = plt.figure(1)\n",
    "        plt.plot(d[i][d[i].columns[j]], color = color)\n",
    "        fig.set_size_inches(40, 10)\n",
    "        #plt.ylim([-0.2,0.2])\n",
    "        plt.legend([str(d[i].columns.values[1]),str(d[i].columns.values[2]),str(d[i].columns.values[3]),str(d[i].columns.values[4]),str(d[i].columns.values[5]),str(d[i].columns.values[6]),str(d[i].columns.values[7]),str(d[i].columns.values[8]),str(d[i].columns.values[9]), str(d[i].columns.values[10])], loc ='upper right')\n",
    "    plt.xlabel('Trackpoint')\n",
    "    #plt.show()\n",
    "\n",
    "    fig.savefig(\"Plots/Absolute_\"+str(i), dpi=300)\n",
    "    plt.clf()"
   ]
  },
  {
   "cell_type": "code",
   "execution_count": 39,
   "metadata": {
    "collapsed": false
   },
   "outputs": [],
   "source": [
    "for i in [5,6,7,8,9,10,11,13,14,15,16,17,18,19,20,21,23,24,25,26,27,28,29,30,31,32,33,34,35,36,37]:\n",
    "    for j,color in enumerate(['b','g','r','m','y','k','c','goldenrod','deepskyblue','lawngreen'], start=11):\n",
    "        fig = plt.figure(1)\n",
    "        plt.plot(d[i][d[i].columns[j]], color = color)\n",
    "        fig.set_size_inches(100, 10)\n",
    "        plt.ylim([-0.2,0.2])\n",
    "        #set_color_cycle([(1,1,1),(1,1,0)])\n",
    "        plt.legend([str(d[i].columns.values[11]),str(d[i].columns.values[12]),str(d[i].columns.values[13]),str(d[i].columns.values[14]),str(d[i].columns.values[15]),str(d[i].columns.values[16]),str(d[i].columns.values[17]),str(d[i].columns.values[18]),str(d[i].columns.values[19]),str(d[i].columns.values[20])], loc ='upper right')\n",
    "    plt.xlabel('Trackpoint')\n",
    "    #plt.show()\n",
    "\n",
    "    fig.savefig(\"Plots/Differential_\"+str(i), dpi=300)\n",
    "    plt.clf()"
   ]
  },
  {
   "cell_type": "markdown",
   "metadata": {},
   "source": [
    "The profiles of the differentials are actually even worse useful for interpretation."
   ]
  }
 ],
 "metadata": {
  "anaconda-cloud": {},
  "kernelspec": {
   "display_name": "Python [conda root]",
   "language": "python",
   "name": "conda-root-py"
  },
  "language_info": {
   "codemirror_mode": {
    "name": "ipython",
    "version": 3
   },
   "file_extension": ".py",
   "mimetype": "text/x-python",
   "name": "python",
   "nbconvert_exporter": "python",
   "pygments_lexer": "ipython3",
   "version": "3.5.2"
  }
 },
 "nbformat": 4,
 "nbformat_minor": 1
}
